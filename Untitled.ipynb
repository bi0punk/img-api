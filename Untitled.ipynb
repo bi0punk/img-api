{
 "cells": [
  {
   "cell_type": "code",
   "execution_count": 1,
   "id": "193d0b1b",
   "metadata": {},
   "outputs": [],
   "source": [
    "import aiohttp\n",
    "import time\n",
    "import asyncio\n",
    "import requests\n"
   ]
  },
  {
   "cell_type": "code",
   "execution_count": 21,
   "id": "49574cd2",
   "metadata": {},
   "outputs": [
    {
     "name": "stdout",
     "output_type": "stream",
     "text": [
      "Time: 5.592802047729492\n"
     ]
    }
   ],
   "source": [
    "URL = \"http://127.0.0.1:8000\"\n",
    "start = time.time()\n",
    "results = []\n",
    "for i in range(1000):\n",
    "    results.append(requests.post(URL).content)\n",
    "print(f\"Time: {time.time() - start}\")"
   ]
  },
  {
   "cell_type": "code",
   "execution_count": 22,
   "id": "5b2f7ee1",
   "metadata": {},
   "outputs": [],
   "source": [
    "URLS = []\n",
    "for i in range(1000):\n",
    "    URLS.append(\"http://127.0.0.1:8000\")\n",
    "\n",
    "async def test(URL):\n",
    "    async with aiohttp.ClientSession() as session:\n",
    "        async with session.post(URL) as resp:\n",
    "            return await resp.text()"
   ]
  },
  {
   "cell_type": "code",
   "execution_count": 23,
   "id": "44dff3ed",
   "metadata": {},
   "outputs": [
    {
     "name": "stdout",
     "output_type": "stream",
     "text": [
      "Time: 0.516855001449585\n"
     ]
    }
   ],
   "source": [
    "start = time.time()\n",
    "loop = asyncio.get_event_loop()\n",
    "results = await asyncio.gather(*[loop.create_task(test(URL)) for URL in URLS], return_exceptions = True)\n",
    "print(f\"Time: {time.time()-start}\")"
   ]
  },
  {
   "cell_type": "code",
   "execution_count": null,
   "id": "6a9a78a0",
   "metadata": {},
   "outputs": [],
   "source": [
    "URL = \"http://127.0.0.1:8000\"\n",
    "start = time.time()\n",
    "results = []\n",
    "for i in range(1000):\n",
    "    results.append"
   ]
  }
 ],
 "metadata": {
  "kernelspec": {
   "display_name": "Python 3",
   "language": "python",
   "name": "python3"
  },
  "language_info": {
   "codemirror_mode": {
    "name": "ipython",
    "version": 3
   },
   "file_extension": ".py",
   "mimetype": "text/x-python",
   "name": "python",
   "nbconvert_exporter": "python",
   "pygments_lexer": "ipython3",
   "version": "3.9.1"
  }
 },
 "nbformat": 4,
 "nbformat_minor": 5
}
